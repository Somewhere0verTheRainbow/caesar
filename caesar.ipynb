{
 "cells": [
  {
   "cell_type": "code",
   "execution_count": null,
   "metadata": {},
   "outputs": [],
   "source": [
    "def encode(s, n):\n",
    "    return shift_characters(s, n)\n",
    "\n",
    "def decode(s, n):\n",
    "    return shift_characters(s, -n)\n",
    "\n",
    "def shift_characters(s, n):\n",
    "    result = []\n",
    "    for char in s:\n",
    "        if char.isalpha():\n",
    "            base = 'a' if char.islower() else 'A'\n",
    "            shifted_char = chr(((ord(char) - ord(base) + n) % 26 + 26) % 26 + ord(base))\n",
    "            result.append(shifted_char)\n",
    "        else:\n",
    "            result.append(char)\n",
    "    return ''.join(result)\n",
    "\n",
    "def calculate_char_difference(s):\n",
    "    s = s.lower()\n",
    "    s = ''.join(filter(str.isalpha, s))\n",
    "    char_counts = {}\n",
    "    for char in s:\n",
    "        char_counts[char] = char_counts.get(char, 0) + 1\n",
    "    max_count_char = max(char_counts, key=char_counts.get, default='e')\n",
    "    return abs(ord('e') - ord(max_count_char))\n",
    "\n",
    "# Примеры использования\n",
    "text = \"\"\"\n",
    "\n",
    "Either the well was very deep, or she fell very slowly, for she had plenty of time as she went down to look about her and to wonder what was going to happen next. First, she tried to look down and make out what she was coming to, but it was too dark to see anything; then she looked at the sides of the well, and noticed that they were filled with cupboards and book-shelves; here and there she saw maps and pictures hung upon pegs. She took down a jar from one of the shelves as she passed; it was labelled 'ORANGE MARMALADE', but to her great disappointment it was empty: she did not like to drop the jar for fear of killing somebody, so managed to put it into one of the cupboards as she fell past it.\n",
    "\n",
    "'Well!' thought Alice to herself, 'after such a fall as this, I shall think nothing of tumbling down stairs! How brave they'll all think me at home! Why, I wouldn't say anything about it, even if I fell off the top of the house!' (Which was very likely true.)\n",
    "\n",
    "Down, down, down. Would the fall NEVER come to an end! 'I wonder how many miles I've fallen by this time?' she said aloud. 'I must be getting somewhere near the centre of the earth. Let me see: that would be four thousand miles down, I think—' (for, you see, Alice had learnt several things of this sort in her lessons in the schoolroom, and though this was not a VERY good opportunity for showing off her knowledge, as there was no one to listen to her, still it was good practice to say it over) '—yes, that's about the right distance—but then I wonder what Latitude or Longitude I've got to?' (Alice had no idea what Latitude was, or Longitude either, but thought they were nice grand words to say.)\n",
    "\n",
    "Presently she began again. 'If wonder if I shall fall right THROUGH the earth! How funny it'll seem to come out among the people that walk with their heads downward! The Antipathies, I think—' (she was rather glad there WAS no one listening, this time, as it didn't sound at all the right word) '—but I shall have to ask them what the name of the country is, you know. Please, Ma'am, is this New Zealand or Australia?' (and she tried to curtsey as she spoke—fancy CURTSEYING as you're falling through the air!\n",
    "\n",
    "\"\"\"\n",
    "\n",
    "encoded_text = encode(text, 8)\n",
    "# decoded_text = decode(encoded_text, 8)\n",
    "char_difference = calculate_char_difference(encoded_text)\n",
    "# print(encoded_text)\n",
    "# print(decoded_text)\n",
    "print(char_difference)\n",
    "print(decode(encoded_text, char_difference))"
   ]
  }
 ],
 "metadata": {
  "kernelspec": {
   "display_name": "Python 3.11.4 64-bit",
   "language": "python",
   "name": "python3"
  },
  "language_info": {
   "codemirror_mode": {
    "name": "ipython",
    "version": 3
   },
   "file_extension": ".py",
   "mimetype": "text/x-python",
   "name": "python",
   "nbconvert_exporter": "python",
   "pygments_lexer": "ipython3",
   "version": "3.11.4"
  },
  "orig_nbformat": 4,
  "vscode": {
   "interpreter": {
    "hash": "fc77ad8b2bc9ba305039ca602291a5783a80cf4931507a3b6bd8d722885508aa"
   }
  }
 },
 "nbformat": 4,
 "nbformat_minor": 2
}
